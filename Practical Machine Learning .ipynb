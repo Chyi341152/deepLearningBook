{
 "cells": [
  {
   "cell_type": "markdown",
   "metadata": {},
   "source": [
    "# Machine Leanring with Python Introduction"
   ]
  },
  {
   "cell_type": "code",
   "execution_count": 2,
   "metadata": {},
   "outputs": [
    {
     "data": {
      "text/plain": [
       "'\\nThe objective of this course is to give you a whilistic understanding of machine leanring, covering theory, application, and inner workings of supervised, unsupervised, and deep leanring algorithms\\n\\nlinear regression : 线性回归\\nK Nearest Neighbors: K 邻域\\nSuport Vector Machines: SVM \\nflat clustering : 平面聚类\\nhierarchical clustering: 层次聚类\\nneural networks: 神经网络\\n\\nMachine learning was defined in 1959 by Arthur Samuel\\n'"
      ]
     },
     "execution_count": 2,
     "metadata": {},
     "output_type": "execute_result"
    }
   ],
   "source": [
    "'''\n",
    "The objective of this course is to give you a whilistic understanding of machine leanring, covering theory, application, and inner workings of supervised, unsupervised, and deep leanring algorithms\n",
    "\n",
    "linear regression : 线性回归\n",
    "K Nearest Neighbors: K 邻域\n",
    "Suport Vector Machines: SVM \n",
    "flat clustering : 平面聚类\n",
    "hierarchical clustering: 层次聚类\n",
    "neural networks: 神经网络\n",
    "\n",
    "Machine learning was defined in 1959 by Arthur Samuel\n",
    "'''"
   ]
  },
  {
   "cell_type": "markdown",
   "metadata": {},
   "source": [
    "# P.2 Regression - Intro and Data"
   ]
  },
  {
   "cell_type": "code",
   "execution_count": 9,
   "metadata": {},
   "outputs": [
    {
     "name": "stdout",
     "output_type": "stream",
     "text": [
      "            Adj. Close    HL_PCT  PCT_change  Adj. Volume\n",
      "Date                                                     \n",
      "2004-08-19   50.322842  8.441017    0.324968   44659000.0\n",
      "2004-08-20   54.322689  8.537313    7.227007   22834300.0\n",
      "2004-08-23   54.869377  4.062357   -1.227880   18256100.0\n",
      "2004-08-24   52.597363  7.753210   -5.726357   15247300.0\n",
      "2004-08-25   53.164113  3.966115    1.183658    9188600.0\n"
     ]
    }
   ],
   "source": [
    "# Regression is a form of supervised machine learning 监督学习 回归曲线\n",
    "# regression is popularly used with stock prices\n",
    "import pandas as pd \n",
    "import quandl\n",
    "\n",
    "df = quandl.get(\"WIKI/GOOGL\")\n",
    "df = df[['Adj. Open', 'Adj. High', 'Adj. Low', 'Adj. Close', 'Adj. Volume']]\n",
    "\n",
    "df['HL_PCT'] = (df['Adj. High'] - df['Adj. Low']) / df['Adj. Low'] * 100.0 \n",
    "df['PCT_change'] = (df['Adj. Close'] - df['Adj. Open']) / df['Adj. Open'] * 100.0 \n",
    "\n",
    "df = df[['Adj. Close', 'HL_PCT', 'PCT_change', 'Adj. Volume']]\n",
    "print(df.head())"
   ]
  },
  {
   "cell_type": "markdown",
   "metadata": {},
   "source": [
    "# p3. Regression - Features and Labels"
   ]
  },
  {
   "cell_type": "code",
   "execution_count": 15,
   "metadata": {},
   "outputs": [
    {
     "name": "stdout",
     "output_type": "stream",
     "text": [
      "            Adj. Close    HL_PCT  PCT_change  Adj. Volume\n",
      "Date                                                     \n",
      "2004-08-19   50.322842  8.441017    0.324968   44659000.0\n",
      "2004-08-20   54.322689  8.537313    7.227007   22834300.0\n",
      "2004-08-23   54.869377  4.062357   -1.227880   18256100.0\n",
      "2004-08-24   52.597363  7.753210   -5.726357   15247300.0\n",
      "2004-08-25   53.164113  3.966115    1.183658    9188600.0\n",
      "            Adj. Close    HL_PCT  PCT_change  Adj. Volume      label\n",
      "Date                                                                \n",
      "2004-08-19   50.322842  8.441017    0.324968   44659000.0  69.639972\n",
      "2004-08-20   54.322689  8.537313    7.227007   22834300.0  69.078238\n",
      "2004-08-23   54.869377  4.062357   -1.227880   18256100.0  67.839414\n",
      "2004-08-24   52.597363  7.753210   -5.726357   15247300.0  68.912727\n",
      "2004-08-25   53.164113  3.966115    1.183658    9188600.0  70.668146\n"
     ]
    }
   ],
   "source": [
    "# Regression is a form of supervised machine learning 监督学习 回归曲线\n",
    "# regression is popularly used with stock prices\n",
    "import pandas as pd \n",
    "import quandl\n",
    "import math \n",
    "import numpy as np  # convert data to numpy array \n",
    "from sklearn import preprocessing, svm  # preprocessing do some clearning/scaling of data prior \n",
    "from sklearn.model_selection import train_test_split\n",
    "from sklearn.linear_model import LinearRegression\n",
    "\n",
    "df = quandl.get(\"WIKI/GOOGL\")\n",
    "df = df[['Adj. Open', 'Adj. High', 'Adj. Low', 'Adj. Close', 'Adj. Volume']]\n",
    "\n",
    "df['HL_PCT'] = (df['Adj. High'] - df['Adj. Low']) / df['Adj. Low'] * 100.0 \n",
    "df['PCT_change'] = (df['Adj. Close'] - df['Adj. Open']) / df['Adj. Open'] * 100.0 \n",
    "\n",
    "df = df[['Adj. Close', 'HL_PCT', 'PCT_change', 'Adj. Volume']]\n",
    "print(df.head())\n",
    "\n",
    "# The features are the descriptive attributes, and the label is what you're attempting to predict or frecast\n",
    "forecast_col = 'Adj. Close'\n",
    "df.fillna(value=-99999, inplace=True) # fill any NaN data with -9999\n",
    "# the smallest integer than or equal to x \n",
    "forecast_out = int(math.ceil(0.01 * len(df))) # forecast out 1% of the entire length of the dataset\n",
    "\n",
    "df['label'] = df[forecast_col].shift(-forecast_out) # ???????\n",
    "\n",
    "# Now we have the data that comprises out features and labels\n",
    "print(df.head())"
   ]
  },
  {
   "cell_type": "markdown",
   "metadata": {},
   "source": [
    "# P4. Regression - Training and Testing"
   ]
  },
  {
   "cell_type": "code",
   "execution_count": 28,
   "metadata": {},
   "outputs": [
    {
     "name": "stdout",
     "output_type": "stream",
     "text": [
      "            Adj. Close    HL_PCT  PCT_change  Adj. Volume\n",
      "Date                                                     \n",
      "2004-08-19   50.322842  8.441017    0.324968   44659000.0\n",
      "2004-08-20   54.322689  8.537313    7.227007   22834300.0\n",
      "2004-08-23   54.869377  4.062357   -1.227880   18256100.0\n",
      "2004-08-24   52.597363  7.753210   -5.726357   15247300.0\n",
      "2004-08-25   53.164113  3.966115    1.183658    9188600.0\n",
      "sklearn.svm.SVR :  0.8244022376049817\n",
      "LinearRegression :  0.9762946759762654\n",
      "linear 0.9752850630987471\n",
      "poly 0.6591706480684271\n",
      "rbf 0.8244022376049817\n",
      "sigmoid 0.9032142570161316\n"
     ]
    }
   ],
   "source": [
    "# Regression is a form of supervised machine learning 监督学习 回归曲线\n",
    "# regression is popularly used with stock prices\n",
    "import pandas as pd \n",
    "import quandl\n",
    "import math \n",
    "import numpy as np  # convert data to numpy array \n",
    "from sklearn import preprocessing, svm  # preprocessing do some clearning/scaling of data prior \n",
    "from sklearn.model_selection import train_test_split\n",
    "from sklearn.linear_model import LinearRegression\n",
    "\n",
    "df = quandl.get(\"WIKI/GOOGL\")\n",
    "df = df[['Adj. Open', 'Adj. High', 'Adj. Low', 'Adj. Close', 'Adj. Volume']]\n",
    "\n",
    "df['HL_PCT'] = (df['Adj. High'] - df['Adj. Low']) / df['Adj. Low'] * 100.0 \n",
    "df['PCT_change'] = (df['Adj. Close'] - df['Adj. Open']) / df['Adj. Open'] * 100.0 \n",
    "\n",
    "df = df[['Adj. Close', 'HL_PCT', 'PCT_change', 'Adj. Volume']]\n",
    "print(df.head())\n",
    "\n",
    "# The features are the descriptive attributes, and the label is what you're attempting to predict or frecast\n",
    "forecast_col = 'Adj. Close'\n",
    "df.fillna(value=-99999, inplace=True) # fill any NaN data with -9999\n",
    "# the smallest integer than or equal to x \n",
    "forecast_out = int(math.ceil(0.01 * len(df))) # forecast out 1% of the entire length of the dataset\n",
    "\n",
    "df['label'] = df[forecast_col].shift(-forecast_out) # ???????\n",
    "\n",
    "# drop NaN information from the dataframe \n",
    "df.dropna(inplace=True)\n",
    "\n",
    "# define X (capital x) as the feature, define y (lowercase) as the label \n",
    "X = np.array(df.drop(['label'], 1))\n",
    "y = np.array(df['label'])\n",
    "\n",
    "# Generally, you want your features in machine learning to be in a range of -1 to 1 \n",
    "X = preprocessing.scale(X)\n",
    "\n",
    "X_train, X_test, y_train, y_test = train_test_split(X, y, test_size=0.2)\n",
    "\n",
    "# define our classifier: use Support Vector Regression from Scikit-Learn svm package\n",
    "clf = svm.SVR()  # Support Vector Regression \n",
    "\n",
    "# ready to train it \n",
    "clf.fit(X_train, y_train)\n",
    "\n",
    "# Wow we can test it\n",
    "confidence = clf.score(X_test, y_test)\n",
    "\n",
    "print(\"sklearn.svm.SVR : \",confidence)\n",
    "\n",
    "# using LinearRegression from sklearn \n",
    "clf = LinearRegression(n_jobs=-1) # n_jobs=-1 will use all available threads \n",
    "\n",
    "# ready to train it \n",
    "clf.fit(X_train, y_train)\n",
    "\n",
    "# Wow we can test it\n",
    "confidence = clf.score(X_test, y_test)\n",
    "\n",
    "print(\"LinearRegression : \",confidence)\n",
    "\n",
    "# Choosing the right estimator 选择正确的评估器\n",
    "# It's really trial and error \n",
    "\n",
    "for k in ['linear', 'poly', 'rbf', 'sigmoid']:\n",
    "    clf = svm.SVR(kernel=k)\n",
    "    clf.fit(X_train, y_train)\n",
    "    confidence = clf.score(X_test, y_test)\n",
    "    print(k, confidence)"
   ]
  },
  {
   "cell_type": "markdown",
   "metadata": {},
   "source": [
    "# P5. Regression - Forecasting and Predicting"
   ]
  },
  {
   "cell_type": "code",
   "execution_count": 42,
   "metadata": {},
   "outputs": [
    {
     "name": "stdout",
     "output_type": "stream",
     "text": [
      "LinearRegression :  0.9757089778125991\n",
      "[1064.96169619 1069.82389737 1072.48311812 1068.46378862 1072.10487119\n",
      " 1077.83716092 1092.23285395 1105.74556346 1100.42296525 1093.98338797\n",
      " 1091.78295215 1090.38902574 1086.65171691 1080.83892887 1076.38273108\n",
      " 1074.51444564 1093.31694544 1111.83874027 1116.96214129 1131.6664835\n",
      " 1135.86957914 1134.04236999 1131.80459758 1133.49520845 1151.44295235\n",
      " 1150.83578181 1160.37121557 1157.01486681 1165.33182368 1185.33713546\n",
      " 1198.34294087 1192.12838134 1204.196891   1208.92844953] 0.9757089778125991 34\n",
      "            Adj. Close    HL_PCT  PCT_change  Adj. Volume      label  Forecast\n",
      "Date                                                                          \n",
      "2004-08-19   50.322842  8.441017    0.324968   44659000.0  69.639972       NaN\n",
      "2004-08-20   54.322689  8.537313    7.227007   22834300.0  69.078238       NaN\n",
      "2004-08-23   54.869377  4.062357   -1.227880   18256100.0  67.839414       NaN\n",
      "2004-08-24   52.597363  7.753210   -5.726357   15247300.0  68.912727       NaN\n",
      "2004-08-25   53.164113  3.966115    1.183658    9188600.0  70.668146       NaN\n",
      "2017-12-06 00:00:00\n"
     ]
    },
    {
     "data": {
      "image/png": "[encoded data removed]",
      "text/plain": [
       "<matplotlib.figure.Figure at 0x7fd91078d438>"
      ]
     },
     "metadata": {},
     "output_type": "display_data"
    }
   ],
   "source": [
    "# Regression is a form of supervised machine learning 监督学习 回归曲线\n",
    "# regression is popularly used with stock prices\n",
    "import pandas as pd \n",
    "import quandl\n",
    "import math \n",
    "import datetime\n",
    "import matplotlib.pyplot as plt \n",
    "from matplotlib import style \n",
    "import numpy as np  # convert data to numpy array \n",
    "from sklearn import preprocessing, svm  # preprocessing do some clearning/scaling of data prior \n",
    "from sklearn.model_selection import train_test_split \n",
    "from sklearn.linear_model import LinearRegression\n",
    "\n",
    "df = quandl.get(\"WIKI/GOOGL\")\n",
    "df = df[['Adj. Open', 'Adj. High', 'Adj. Low', 'Adj. Close', 'Adj. Volume']]\n",
    "\n",
    "df['HL_PCT'] = (df['Adj. High'] - df['Adj. Low']) / df['Adj. Low'] * 100.0 \n",
    "df['PCT_change'] = (df['Adj. Close'] - df['Adj. Open']) / df['Adj. Open'] * 100.0 \n",
    "\n",
    "df = df[['Adj. Close', 'HL_PCT', 'PCT_change', 'Adj. Volume']]\n",
    "\n",
    "# The features are the descriptive attributes, and the label is what you're attempting to predict or frecast\n",
    "forecast_col = 'Adj. Close'\n",
    "df.fillna(value=-99999, inplace=True) # fill any NaN data with -9999\n",
    "# the smallest integer than or equal to x \n",
    "forecast_out = int(math.ceil(0.01 * len(df))) # forecast out 1% of the entire length of the dataset\n",
    "\n",
    "\n",
    "df['label'] = df[forecast_col].shift(-forecast_out) # ???????\n",
    "\n",
    "\n",
    "# define X (capital x) as the feature, define y (lowercase) as the label \n",
    "X = np.array(df.drop(['label'], 1))\n",
    "# Generally, you want your features in machine learning to be in a range of -1 to 1 \n",
    "X = preprocessing.scale(X)\n",
    "X_lately = X[-forecast_out:]\n",
    "X = X[:-forecast_out]\n",
    "\n",
    "# drop NaN information from the dataframe \n",
    "df.dropna(inplace=True)\n",
    "\n",
    "y = np.array(df['label'])\n",
    "\n",
    "X_train, X_test, y_train, y_test = train_test_split(X, y, test_size=0.2)\n",
    "\n",
    "# using LinearRegression from sklearn \n",
    "clf = LinearRegression(n_jobs=-1) # n_jobs=-1 will use all available threads \n",
    "\n",
    "# ready to train it \n",
    "clf.fit(X_train, y_train)\n",
    "\n",
    "# Wow we can test it\n",
    "confidence = clf.score(X_test, y_test)\n",
    "\n",
    "print(\"LinearRegression : \",confidence)\n",
    "\n",
    "forecast_set = clf.predict(X_lately)\n",
    "\n",
    "print(forecast_set, confidence, forecast_out)\n",
    "\n",
    "\n",
    "style.use('ggplot')\n",
    "\n",
    "# add a new column \n",
    "df['Forecast'] = np.nan \n",
    "\n",
    "last_date = df.iloc[-1].name \n",
    "print(last_date)\n",
    "last_unix = last_date.timestamp()\n",
    "one_day = 86400\n",
    "next_unix = last_unix + one_day \n",
    "\n",
    "for i in forecast_set:\n",
    "    next_date = datetime.datetime.fromtimestamp(next_unix)\n",
    "    next_unix += 86400\n",
    "    df.loc[next_date] = [np.nan for _ in range(len(df.columns) -1)] +[i]\n",
    "\n",
    "df['Adj. Close'].plot()\n",
    "df['Forecast'].plot()\n",
    "\n",
    "plt.legend(loc=4)\n",
    "plt.xlabel('Date')\n",
    "plt.ylabel('Price')\n",
    "plt.show()"
   ]
  },
  {
   "cell_type": "markdown",
   "metadata": {},
   "source": [
    "# P6. Pickling and Scaling"
   ]
  },
  {
   "cell_type": "code",
   "execution_count": 44,
   "metadata": {
    "scrolled": true
   },
   "outputs": [
    {
     "name": "stdout",
     "output_type": "stream",
     "text": [
      "LinearRegression :  0.9776549779336077\n",
      "[1066.45057394 1071.00557505 1073.75863743 1069.46610779 1073.40399552\n",
      " 1079.08907096 1093.59246939 1107.15680109 1101.52630508 1094.93768217\n",
      " 1092.96674596 1091.83877877 1087.85667995 1081.92116403 1077.42171082\n",
      " 1075.87994855 1094.93749322 1113.37185395 1118.22100054 1133.14161746\n",
      " 1137.30975538 1135.14209613 1133.25739414 1134.83500613 1153.03838731\n",
      " 1151.45422415 1161.59593914 1158.02858278 1166.77461576 1186.88962668\n",
      " 1199.77034162 1192.71104797 1205.45713635 1209.94492633] 0.9776549779336077 34\n",
      "2017-12-06 00:00:00\n"
     ]
    },
    {
     "data": {
      "image/png": "[encoded data removed]",
      "text/plain": [
       "<matplotlib.figure.Figure at 0x7fd90ebee630>"
      ]
     },
     "metadata": {},
     "output_type": "display_data"
    }
   ],
   "source": [
    "# Regression is a form of supervised machine learning 监督学习 回归曲线\n",
    "# regression is popularly used with stock prices\n",
    "import pandas as pd \n",
    "import pickle \n",
    "import quandl\n",
    "import math \n",
    "import datetime\n",
    "import matplotlib.pyplot as plt \n",
    "from matplotlib import style \n",
    "import numpy as np  # convert data to numpy array \n",
    "from sklearn import preprocessing, svm  # preprocessing do some clearning/scaling of data prior \n",
    "from sklearn.model_selection import train_test_split \n",
    "from sklearn.linear_model import LinearRegression\n",
    "\n",
    "df = quandl.get(\"WIKI/GOOGL\")\n",
    "df = df[['Adj. Open', 'Adj. High', 'Adj. Low', 'Adj. Close', 'Adj. Volume']]\n",
    "\n",
    "df['HL_PCT'] = (df['Adj. High'] - df['Adj. Low']) / df['Adj. Low'] * 100.0 \n",
    "df['PCT_change'] = (df['Adj. Close'] - df['Adj. Open']) / df['Adj. Open'] * 100.0 \n",
    "\n",
    "df = df[['Adj. Close', 'HL_PCT', 'PCT_change', 'Adj. Volume']]\n",
    "\n",
    "# The features are the descriptive attributes, and the label is what you're attempting to predict or frecast\n",
    "forecast_col = 'Adj. Close'\n",
    "df.fillna(value=-99999, inplace=True) # fill any NaN data with -9999\n",
    "# the smallest integer than or equal to x \n",
    "forecast_out = int(math.ceil(0.01 * len(df))) # forecast out 1% of the entire length of the dataset\n",
    "\n",
    "\n",
    "df['label'] = df[forecast_col].shift(-forecast_out) # ???????\n",
    "\n",
    "\n",
    "# define X (capital x) as the feature, define y (lowercase) as the label \n",
    "X = np.array(df.drop(['label'], 1))\n",
    "# Generally, you want your features in machine learning to be in a range of -1 to 1 \n",
    "X = preprocessing.scale(X)\n",
    "X_lately = X[-forecast_out:]\n",
    "X = X[:-forecast_out]\n",
    "\n",
    "# drop NaN information from the dataframe \n",
    "df.dropna(inplace=True)\n",
    "\n",
    "y = np.array(df['label'])\n",
    "\n",
    "X_train, X_test, y_train, y_test = train_test_split(X, y, test_size=0.2)\n",
    "\n",
    "# # using LinearRegression from sklearn \n",
    "# clf = LinearRegression(n_jobs=-1) # n_jobs=-1 will use all available threads \n",
    "\n",
    "# # ready to train it \n",
    "# clf.fit(X_train, y_train)\n",
    "\n",
    "# # Wow we can test it\n",
    "# confidence = clf.score(X_test, y_test)\n",
    "\n",
    "# with open('linearregression.pickle', 'wb') as f:\n",
    "#     pickle.dump(clf, f)\n",
    "\n",
    "pickle_in = open('linearregression.pickle', 'rb')\n",
    "clf = pickle.load(pickle_in)\n",
    "\n",
    "\n",
    "print(\"LinearRegression : \",confidence)\n",
    "\n",
    "forecast_set = clf.predict(X_lately)\n",
    "\n",
    "print(forecast_set, confidence, forecast_out)\n",
    "\n",
    "style.use('ggplot')\n",
    "\n",
    "# add a new column \n",
    "df['Forecast'] = np.nan \n",
    "\n",
    "last_date = df.iloc[-1].name \n",
    "print(last_date)\n",
    "last_unix = last_date.timestamp()\n",
    "one_day = 86400\n",
    "next_unix = last_unix + one_day \n",
    "\n",
    "for i in forecast_set:\n",
    "    next_date = datetime.datetime.fromtimestamp(next_unix)\n",
    "    next_unix += 86400\n",
    "    df.loc[next_date] = [np.nan for _ in range(len(df.columns) -1)] +[i]\n",
    "\n",
    "df['Adj. Close'].plot()\n",
    "df['Forecast'].plot()\n",
    "\n",
    "plt.legend(loc=4)\n",
    "plt.xlabel('Date')\n",
    "plt.ylabel('Price')\n",
    "plt.show()"
   ]
  },
  {
   "cell_type": "markdown",
   "metadata": {},
   "source": [
    "# P7. Regression - Theory and how it works"
   ]
  },
  {
   "cell_type": "markdown",
   "metadata": {},
   "source": [
    "'''\n",
    "Linear algebra is essential to machine leanring and it is useful to understand the true building block that machine learning is built upon \n",
    "'''\n",
    "<img src='images/best-fit-slope.png'>\n",
    "<img src='images/best-fit-y-intercept.png'>\n",
    "\n",
    "\n",
    "\n",
    "\n"
   ]
  },
  {
   "cell_type": "markdown",
   "metadata": {},
   "source": [
    "# P8. Regression - How to program the Best Fit Slope"
   ]
  },
  {
   "cell_type": "code",
   "execution_count": 2,
   "metadata": {},
   "outputs": [
    {
     "name": "stdout",
     "output_type": "stream",
     "text": [
      "0.29999999999999893\n"
     ]
    }
   ],
   "source": [
    "from statistics import mean  # get the mean of a lost or array \n",
    "import numpy as np \n",
    "\n",
    "xs = [1,2,3,4,5] # features\n",
    "ys = [5,4,6,5,6] # labels\n",
    "\n",
    "xs = np.array(xs, dtype=np.float64) # numpy arrays\n",
    "ys = np.array(ys, dtype=np.float64)\n",
    "\n",
    "# there's our skeleton\n",
    "def best_fit_slope(xs, ys):\n",
    "    # While Python does support something like ^2 it's not going to work on our Numpy array float64 datatype\n",
    "    m = (((mean(xs) * mean(ys)) - mean(xs*ys)) / ((mean(xs)**2) - mean(xs*xs)))\n",
    "    return m \n",
    "\n",
    "m = best_fit_slope(xs, ys)\n",
    "print(m)\n"
   ]
  },
  {
   "cell_type": "markdown",
   "metadata": {},
   "source": [
    "# P9. Regression - How to program the Best Fit Lion"
   ]
  },
  {
   "cell_type": "code",
   "execution_count": 10,
   "metadata": {},
   "outputs": [
    {
     "name": "stdout",
     "output_type": "stream",
     "text": [
      "0.29999999999999893 4.300000000000003\n"
     ]
    },
    {
     "data": {
      "image/png": "[encoded data removed]",
      "text/plain": [
       "<matplotlib.figure.Figure at 0x7f33567cc5c0>"
      ]
     },
     "metadata": {},
     "output_type": "display_data"
    }
   ],
   "source": [
    "# Let's reap the fruits of our labor finally\n",
    "from statistics import mean  # get the mean of a lost or array \n",
    "import numpy as np \n",
    "import matplotlib.pyplot as plt \n",
    "from matplotlib import style \n",
    "\n",
    "style.use('ggplot')\n",
    "\n",
    "xs = [1,2,3,4,5] # features\n",
    "ys = [5,4,6,5,6] # labels\n",
    "\n",
    "xs = np.array(xs, dtype=np.float64) # numpy arrays\n",
    "ys = np.array(ys, dtype=np.float64)\n",
    "\n",
    "# there's our skeleton\n",
    "def best_fit_slope_and_intercept(xs, ys):\n",
    "    # While Python does support something like ^2 it's not going to work on our Numpy array float64 datatype\n",
    "    m = (((mean(xs) * mean(ys)) - mean(xs*ys)) / ((mean(xs)**2) - mean(xs*xs)))\n",
    "    \n",
    "    b = mean(ys) - m*mean(xs)\n",
    "\n",
    "    return m, b \n",
    "\n",
    "\n",
    "m, b = best_fit_slope_and_intercept(xs, ys)\n",
    "print(m, b)\n",
    "regression_line = [(m*x)+b for x in xs]\n",
    "\n",
    "# predict out a couple of points \n",
    "predict_x = 7 \n",
    "predict_y = (m*predict_x) + b\n",
    "plt.scatter(xs, ys, color='#003F72', label='data')\n",
    "plt.plot(predict_x, predict_y, label='prediction')\n",
    "plt.plot(xs, regression_line, label='regression line')\n",
    "plt.legend(loc=4)\n",
    "plt.show()"
   ]
  },
  {
   "cell_type": "markdown",
   "metadata": {},
   "source": [
    "# P10. Regression - R Squared and Coefficient of Determination Theory"
   ]
  },
  {
   "cell_type": "markdown",
   "metadata": {},
   "source": [
    "# The standard way to check for errors is by using squared errors.平均误差\n",
    "<img src='images/coefficient-of-determination-r-squared.png'>\n"
   ]
  },
  {
   "cell_type": "markdown",
   "metadata": {},
   "source": [
    "# P11. Regression - How to Program R Squared"
   ]
  },
  {
   "cell_type": "code",
   "execution_count": 11,
   "metadata": {},
   "outputs": [
    {
     "name": "stdout",
     "output_type": "stream",
     "text": [
      "0.3214285714285714\n"
     ]
    }
   ],
   "source": [
    "# Let's reap the fruits of our labor finally\n",
    "from statistics import mean  # get the mean of a lost or array \n",
    "import numpy as np \n",
    "import matplotlib.pyplot as plt \n",
    "from matplotlib import style \n",
    "\n",
    "style.use('ggplot')\n",
    "\n",
    "xs = [1,2,3,4,5] # features\n",
    "ys = [5,4,6,5,6] # labels\n",
    "\n",
    "xs = np.array(xs, dtype=np.float64) # numpy arrays\n",
    "ys = np.array(ys, dtype=np.float64)\n",
    "\n",
    "# there's our skeleton\n",
    "def best_fit_slope_and_intercept(xs, ys):\n",
    "    # While Python does support something like ^2 it's not going to work on our Numpy array float64 datatype\n",
    "    m = (((mean(xs) * mean(ys)) - mean(xs*ys)) / ((mean(xs)**2) - mean(xs*xs)))\n",
    "    \n",
    "    b = mean(ys) - m*mean(xs)\n",
    "\n",
    "    return m, b \n",
    "\n",
    "def squared_error(ys_orig, ys_line):\n",
    "    return sum((ys_line - ys_orig) * (ys_line - ys_orig))\n",
    "\n",
    "def coefficient_of_determination(ys_orig, ys_line):\n",
    "    y_mean_line = [mean(ys_orig) for y in ys_orig]\n",
    "    squared_error_regr = squared_error(ys_orig, ys_line)\n",
    "    squared_error_y_mean = squared_error(ys_orig, y_mean_line)\n",
    "    return (1 - (squared_error_regr/squared_error_y_mean))\n",
    "\n",
    "m, b = best_fit_slope_and_intercept(xs, ys)\n",
    "regression_lion = [(m*x)+b for x in xs]\n",
    "\n",
    "r_squared = coefficient_of_determination(ys, regression_line)\n",
    "print(r_squared)\n",
    "\n"
   ]
  },
  {
   "cell_type": "markdown",
   "metadata": {},
   "source": [
    "# P12. Creating Sample Data for Testing"
   ]
  },
  {
   "cell_type": "code",
   "execution_count": 1,
   "metadata": {},
   "outputs": [
    {
     "ename": "ModuleNotFoundError",
     "evalue": "No module named 'numpy'",
     "output_type": "error",
     "traceback": [
      "\u001b[0;31m---------------------------------------------------------------------------\u001b[0m",
      "\u001b[0;31mModuleNotFoundError\u001b[0m                       Traceback (most recent call last)",
      "\u001b[0;32m<ipython-input-1-6c1cf827e4b3>\u001b[0m in \u001b[0;36m<module>\u001b[0;34m()\u001b[0m\n\u001b[1;32m      1\u001b[0m \u001b[0;31m# Let's reap the fruits of our labor finally\u001b[0m\u001b[0;34m\u001b[0m\u001b[0;34m\u001b[0m\u001b[0m\n\u001b[1;32m      2\u001b[0m \u001b[0;32mfrom\u001b[0m \u001b[0mstatistics\u001b[0m \u001b[0;32mimport\u001b[0m \u001b[0mmean\u001b[0m  \u001b[0;31m# get the mean of a lost or array\u001b[0m\u001b[0;34m\u001b[0m\u001b[0m\n\u001b[0;32m----> 3\u001b[0;31m \u001b[0;32mimport\u001b[0m \u001b[0mnumpy\u001b[0m \u001b[0;32mas\u001b[0m \u001b[0mnp\u001b[0m\u001b[0;34m\u001b[0m\u001b[0m\n\u001b[0m\u001b[1;32m      4\u001b[0m \u001b[0;32mimport\u001b[0m \u001b[0mmatplotlib\u001b[0m\u001b[0;34m.\u001b[0m\u001b[0mpyplot\u001b[0m \u001b[0;32mas\u001b[0m \u001b[0mplt\u001b[0m\u001b[0;34m\u001b[0m\u001b[0m\n\u001b[1;32m      5\u001b[0m \u001b[0;32mfrom\u001b[0m \u001b[0mmatplotlib\u001b[0m \u001b[0;32mimport\u001b[0m \u001b[0mstyle\u001b[0m\u001b[0;34m\u001b[0m\u001b[0m\n",
      "\u001b[0;31mModuleNotFoundError\u001b[0m: No module named 'numpy'"
     ]
    }
   ],
   "source": [
    "# Let's reap the fruits of our labor finally\n",
    "from statistics import mean  # get the mean of a lost or array \n",
    "import numpy as np \n",
    "import matplotlib.pyplot as plt \n",
    "from matplotlib import style \n",
    "import random \n",
    "\n",
    "\n",
    "\n",
    "style.use('ggplot')\n",
    "\n",
    "xs = [1,2,3,4,5] # features\n",
    "ys = [5,4,6,5,6] # labels\n",
    "\n",
    "xs = np.array(xs, dtype=np.float64) # numpy arrays\n",
    "ys = np.array(ys, dtype=np.float64)\n",
    "\n",
    "# there's our skeleton\n",
    "def best_fit_slope_and_intercept(xs, ys):\n",
    "    # While Python does support something like ^2 it's not going to work on our Numpy array float64 datatype\n",
    "    m = (((mean(xs) * mean(ys)) - mean(xs*ys)) / ((mean(xs)**2) - mean(xs*xs)))\n",
    "    \n",
    "    b = mean(ys) - m*mean(xs)\n",
    "\n",
    "    return m, b \n",
    "\n",
    "# hm -- how much\n",
    "# variance -- \n",
    "def create_dataset(hm, variance, step=2, correlation=False):\n",
    "    val = []\n",
    "    ys = []\n",
    "    for i in range(hm):\n",
    "        y = val + random.randrange(-variance, variance)\n",
    "        ys.append(y)\n",
    "        if correlation and correlation == 'pos':\n",
    "            val+=step \n",
    "        elif correlation and correlation == 'neg':\n",
    "            val -= step \n",
    "    \n",
    "    xs = [i for i in range(len(ys))]\n",
    "    \n",
    "    return np.array(xs, dtype=np.float64), np.array(ys, dtype=np.float64)\n",
    "\n",
    "\n",
    "\n",
    "def squared_error(ys_orig, ys_line):\n",
    "    return sum((ys_line - ys_orig) * (ys_line - ys_orig))\n",
    "\n",
    "def coefficient_of_determination(ys_orig, ys_line):\n",
    "    y_mean_line = [mean(ys_orig) for y in ys_orig]\n",
    "    squared_error_regr = squared_error(ys_orig, ys_line)\n",
    "    squared_error_y_mean = squared_error(ys_orig, y_mean_line)\n",
    "    return (1 - (squared_error_regr/squared_error_y_mean))\n",
    "\n",
    "xs, ys = create_dataset(40, 40, 2, correlation='pos')\n",
    "m, b = best_fit_slope_and_intercept(xs, ys)\n",
    "regression_lion = [(m*x)+b for x in xs]\n",
    "\n",
    "r_squared = coefficient_of_determination(ys, regression_line)\n",
    "print(r_squared)\n",
    "\n",
    "plt.scatter(xs, ys, color='#003F72', label = 'data')\n",
    "plt.plot(xs, regression_line, label = 'regression line')\n",
    "plt.legend(loc=4)\n",
    "plt.show()\n",
    "\n",
    "\n",
    "\n"
   ]
  },
  {
   "cell_type": "markdown",
   "metadata": {},
   "source": [
    "# P13. Classification Intro with K Nearest Neighbors"
   ]
  },
  {
   "cell_type": "code",
   "execution_count": null,
   "metadata": {},
   "outputs": [],
   "source": [
    "'''\n",
    "Major classificiation algorithms:\n",
    "    K Nearest Neighbors\n",
    "        use an odd number for K \n",
    "        \n",
    "    Support Vector Machine\n",
    "'''"
   ]
  },
  {
   "cell_type": "markdown",
   "metadata": {},
   "source": [
    "# P14. Applying K Nearest Neighbors to Data"
   ]
  },
  {
   "cell_type": "code",
   "execution_count": 9,
   "metadata": {},
   "outputs": [
    {
     "name": "stdout",
     "output_type": "stream",
     "text": [
      "0.9571428571428572\n",
      "[2]\n",
      "[2 2]\n"
     ]
    }
   ],
   "source": [
    "'''\n",
    "Missing/bad data\n",
    "'''\n",
    "import numpy as np \n",
    "from sklearn import preprocessing, neighbors  # preprocessing do some clearning/scaling of data prior \n",
    "from sklearn.model_selection import train_test_split \n",
    "import pandas as pd \n",
    "\n",
    "df = pd.read_csv('data/classificationData/breast-cancer-wisconsin.data')\n",
    "df.replace('?', -99999, inplace=True)\n",
    "# Adding noise can be a away to help or hurt your algorithm.When combatting your robot overlords, being able to distinguish between helpful noise and malicious may save your life.\n",
    "df.drop(['id'], 1, inplace=True) # dropping of the id column\n",
    "\n",
    "# features(X) and labels(y)\n",
    "X = np.array(df.drop(['class'],1))\n",
    "y = np.array(df['class'])\n",
    "\n",
    "# create training and testing samples\n",
    "X_train, X_test, y_train, y_test = train_test_split(X, y, test_size=0.2)\n",
    "\n",
    "# Define the classifier\n",
    "clf = neighbors.KNeighborsClassifier()\n",
    "\n",
    "# Train the classifier\n",
    "clf.fit(X_train, y_train)\n",
    "\n",
    "accuracy = clf.score(X_test, y_test)\n",
    "print(accuracy)\n",
    "\n",
    "# \n",
    "example_measures = np.array([4,2,1,1,1,2,3,2,1])\n",
    "example_measures = example_measures.reshape(1, -1)\n",
    "prediction = clf.predict(example_measures)\n",
    "print(prediction)\n",
    "\n",
    "# had two samples?\n",
    "example_measures = np.array([[4,2,1,1,1,2,3,2,1],[4,2,1,1,1,2,3,2,1]])\n",
    "example_measures = example_measures.reshape(len(example_measures), -1)\n",
    "prediction = clf.predict(example_measures)\n",
    "print(prediction)"
   ]
  },
  {
   "cell_type": "markdown",
   "metadata": {},
   "source": [
    "# P15. Euclidean Distance theory [欧式距离]"
   ]
  },
  {
   "cell_type": "markdown",
   "metadata": {},
   "source": [
    "'''\n",
    "all this algorithm is actually doing is computing distance between points, and then picking the most popular class of the top K classes of points nearest to it.\n",
    "\n",
    "Euclidean Distance, named after Euclid欧几里得 -- the father of Geometry.\n",
    "'''\n",
    "\n",
    "Euclidean distance \n",
    "<img src='images/euclidean-distance.png'>\n",
    "So what's all this business? Basically, it's just the square root of the sum of the distance of the points from eachother, squared."
   ]
  },
  {
   "cell_type": "code",
   "execution_count": 10,
   "metadata": {},
   "outputs": [
    {
     "name": "stdout",
     "output_type": "stream",
     "text": [
      "2.23606797749979\n"
     ]
    }
   ],
   "source": [
    "import math \n",
    "\n",
    "plot1 = [1, 3]\n",
    "plot2 = [2, 5]\n",
    "euclidean_distance = math.sqrt((plot1[0]-plot2[0])**2 + (plot1[1]-plot2[1])**2)\n",
    "print(euclidean_distance)\n",
    "\n",
    "'''\n",
    "That's basically the main math behind K Nearest Neighbors right there, now we just need to build a system to handle for the rest of the algorithm, like finding the closest distances, their group, and the voting\n",
    "'''"
   ]
  },
  {
   "cell_type": "markdown",
   "metadata": {},
   "source": [
    "# P16. Creating a K Nearest Neighbors Classifier from scratch"
   ]
  },
  {
   "cell_type": "code",
   "execution_count": 14,
   "metadata": {},
   "outputs": [
    {
     "data": {
      "image/png": "[encoded data removed]",
      "text/plain": [
       "<matplotlib.figure.Figure at 0x7f38458176a0>"
      ]
     },
     "metadata": {},
     "output_type": "display_data"
    }
   ],
   "source": [
    "import numpy as np # Numpy is a C-optimized and very efficient library, allowing us to perform math much quicker in many cases\n",
    "import warnings\n",
    "from collections import Counter\n",
    "import matplotlib.pyplot as plt \n",
    "from matplotlib import style \n",
    "import warnings\n",
    "from math import sqrt\n",
    "from collections import Counter \n",
    "style.use('fivethirtyeight')\n",
    "\n",
    "def k_nearest_neighbors(data, predict, k=3):\n",
    "    if len(data) >= k:\n",
    "        warnings.warn('K is set to a value less than total voting groups!')\n",
    "        \n",
    "    distances = []\n",
    "    for group in data:\n",
    "        for features in data[group]:\n",
    "            # Euclidean distance 欧几里得距离\n",
    "            euclidean_distance = sqrt( (features[0] - predict[0]) ** 2 + (features[1] - predict[1]) ** 2)\n",
    "            distances.append([euclidean_distance, group])\n",
    "            \n",
    "        votes = [i[1] for i in sorted(distances)[:k]]\n",
    "        # Collections finds the most common elements\n",
    "        vote_result = Counter(votes).most_common(1)[0][0]\n",
    "    return vote_result\n",
    "\n",
    "\n",
    "dataset = {'k' :[[1,2],[2,3],[3,1]], 'r':[[6,5],[7,7],[8,6]]}\n",
    "new_features = [5,7]\n",
    "\n",
    "plt.figure()\n",
    "# plt.scatter 散点图\n",
    "[[plt.scatter(ii[0], ii[1], s=100, color=i) for ii in dataset[i]] for i in dataset]\n",
    "plt.scatter(new_features[0], new_features[1], s=100)\n",
    "\n",
    "result = k_nearest_neighbors(dataset, new_features)\n",
    "plt.scatter(new_features[0], new_features[1], s=100, color = result)\n",
    "plt.show()\n"
   ]
  },
  {
   "cell_type": "markdown",
   "metadata": {},
   "source": [
    "# P18. Testing our K Nearest Neighbors classifier"
   ]
  },
  {
   "cell_type": "code",
   "execution_count": 15,
   "metadata": {},
   "outputs": [
    {
     "name": "stdout",
     "output_type": "stream",
     "text": [
      "Accuracy: 0.9712230215827338\n"
     ]
    }
   ],
   "source": [
    "import numpy as np \n",
    "import warnings \n",
    "from collections import Counter \n",
    "import pandas as pd \n",
    "import random \n",
    "\n",
    "def k_nearest_neighbors(data, predict, k=3):\n",
    "    if len(data) >= k:\n",
    "        warnings.warn('K is set to a value less than total voting groups!')\n",
    "        \n",
    "    distances = []\n",
    "    for group in data:\n",
    "        for features in data[group]:\n",
    "            # Euclidean distance 欧几里得距离\n",
    "            euclidean_distance = np.linalg.norm(np.array(features) - np.array(predict))\n",
    "            distances.append([euclidean_distance, group])\n",
    "            \n",
    "        votes = [i[1] for i in sorted(distances)[:k]]\n",
    "        # Collections finds the most common elements\n",
    "        vote_result = Counter(votes).most_common(1)[0][0]\n",
    "    return vote_result\n",
    "\n",
    "# loading data \n",
    "df = pd.read_csv('data/classificationData/breast-cancer-wisconsin.data')\n",
    "df.replace('?', -99999, inplace=True)\n",
    "# Adding noise can be a away to help or hurt your algorithm.When combatting your robot overlords, being able to distinguish between helpful noise and malicious may save your life.\n",
    "df.drop(['id'], 1, inplace=True) # dropping of the id column\n",
    "full_data = df.astype(float).values.tolist() # convert the data to a list of lists\n",
    "\n",
    "# shuffle the data, and then split it up \n",
    "random.shuffle(full_data) # contains both the features and labels\n",
    "test_size = 0.2 \n",
    "\n",
    "train_set = {2:[], 4:[]} # 2 is for the binign[良性] tumors \n",
    "test_set = {2:[], 4:[]} # 4 is for the malignant[恶性] tumors\n",
    "\n",
    "train_data = full_data[:-int(test_size*len(full_data))] # first 80% as train_data \n",
    "test_data = full_data[-int(test_size*len(full_data)):] # test_data slicing the final 20% \n",
    "\n",
    "for i in train_data:\n",
    "    train_set[i[-1]].append(i[:-1]) # the key is the class, and the values are the attributes\n",
    "\n",
    "for i in test_data:\n",
    "    test_set[i[-1]].append(i[:-1])\n",
    "\n",
    "correct = 0\n",
    "total = 0\n",
    "\n",
    "for group in test_set:\n",
    "    for data in test_set[group]:\n",
    "        vote = k_nearest_neighbors(train_set, data, k=5)\n",
    "        if group == vote:\n",
    "            correct += 1\n",
    "        total += 1\n",
    "\n",
    "print('Accuracy:', correct/total)"
   ]
  },
  {
   "cell_type": "markdown",
   "metadata": {},
   "source": [
    "# P19. Final thoughts on K Nearest Neighbors"
   ]
  },
  {
   "cell_type": "code",
   "execution_count": null,
   "metadata": {},
   "outputs": [],
   "source": [
    "'''\n",
    "With Scikit-Learn, the KNN classifier comes with a parallel processing parameter called n_jobs\n",
    "K Nearest Neighbors is very useful since it performs well on both linear and non-linear data.\n",
    "'''"
   ]
  },
  {
   "cell_type": "markdown",
   "metadata": {},
   "source": [
    "# P20. Support Vector Machine introducting"
   ]
  },
  {
   "cell_type": "code",
   "execution_count": null,
   "metadata": {},
   "outputs": [],
   "source": [
    "'''\n",
    "Support Vector Machine\n",
    "    -- The objective of the SUpport Vector Machine is to find the best spliting boundary between data\n",
    "'''\n"
   ]
  },
  {
   "cell_type": "code",
   "execution_count": null,
   "metadata": {},
   "outputs": [],
   "source": []
  },
  {
   "cell_type": "code",
   "execution_count": null,
   "metadata": {},
   "outputs": [],
   "source": []
  },
  {
   "cell_type": "code",
   "execution_count": null,
   "metadata": {},
   "outputs": [],
   "source": []
  },
  {
   "cell_type": "code",
   "execution_count": null,
   "metadata": {},
   "outputs": [],
   "source": []
  },
  {
   "cell_type": "code",
   "execution_count": null,
   "metadata": {},
   "outputs": [],
   "source": []
  },
  {
   "cell_type": "code",
   "execution_count": null,
   "metadata": {},
   "outputs": [],
   "source": []
  },
  {
   "cell_type": "code",
   "execution_count": null,
   "metadata": {},
   "outputs": [],
   "source": []
  },
  {
   "cell_type": "code",
   "execution_count": null,
   "metadata": {},
   "outputs": [],
   "source": []
  },
  {
   "cell_type": "code",
   "execution_count": null,
   "metadata": {},
   "outputs": [],
   "source": []
  },
  {
   "cell_type": "code",
   "execution_count": null,
   "metadata": {},
   "outputs": [],
   "source": []
  },
  {
   "cell_type": "code",
   "execution_count": null,
   "metadata": {},
   "outputs": [],
   "source": []
  }
 ],
 "metadata": {
  "kernelspec": {
   "display_name": "Python 3",
   "language": "python",
   "name": "python3"
  },
  "language_info": {
   "codemirror_mode": {
    "name": "ipython",
    "version": 3
   },
   "file_extension": ".py",
   "mimetype": "text/x-python",
   "name": "python",
   "nbconvert_exporter": "python",
   "pygments_lexer": "ipython3",
   "version": "3.5.2"
  }
 },
 "nbformat": 4,
 "nbformat_minor": 2
}

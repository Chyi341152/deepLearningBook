{
 "cells": [
  {
   "cell_type": "markdown",
   "metadata": {},
   "source": [
    "# What is deep learning?"
   ]
  },
  {
   "cell_type": "code",
   "execution_count": null,
   "metadata": {},
   "outputs": [],
   "source": [
    "\"\"\"\n",
    "artificial intelligence (AI)\n",
    "Artificial intelligence, machine leanring and deep learning\n",
    "    \n",
    "    Artificial intelligence was born in the 1950s.\n",
    "        Symbolic AI > Machine Leanring > \n",
    "        Symbolic AI, humans input rules (a program) and data to be processed accoroding to these rules.and out come answers\n",
    "        Machine Learning, humans input data as well as the answers expected from the data, and out come the rules. These rules can be applied to new data to produce original answers\n",
    "        \n",
    "    Machine learning is tightly related to mathematical statistics.\n",
    "    [Bayesian analysis]\n",
    "    \n",
    "    Do Machine Leanring, Need three things:\n",
    "        1. Input data points -- \n",
    "        2. Examples of the expected output \n",
    "        3. A way to measure whether the algorithm is doing a good job [feedback signal]\n",
    "        \n",
    "    Deep Learning is a specific subfield of machine learning.\n",
    "    \n",
    "    Deep learning is a mathematical frame-work for learning representations from data.\n",
    "\"\"\" \n"
   ]
  }
 ],
 "metadata": {
  "kernelspec": {
   "display_name": "Python 3",
   "language": "python",
   "name": "python3"
  },
  "language_info": {
   "codemirror_mode": {
    "name": "ipython",
    "version": 3
   },
   "file_extension": ".py",
   "mimetype": "text/x-python",
   "name": "python",
   "nbconvert_exporter": "python",
   "pygments_lexer": "ipython3",
   "version": "3.5.2"
  }
 },
 "nbformat": 4,
 "nbformat_minor": 2
}

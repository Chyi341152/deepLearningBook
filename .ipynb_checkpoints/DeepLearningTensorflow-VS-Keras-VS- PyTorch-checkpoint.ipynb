{
 "cells": [
  {
   "cell_type": "markdown",
   "metadata": {},
   "source": [
    "# What is Deep Learning?\n",
    "    \n",
    "    Deep Learning is the application of artificial neural networks(ANNs) to learn tasks.\n",
    "    Artificial Intelligence > Machine Learning > Deep Learning \n",
    "    \n",
    "## Machine Learning \n",
    "    \n",
    "    scikit-learn: a machine learning library with all supervised and unsupervised machine learning algorithms.\n",
    "\n",
    "## Tensorflow\n",
    "    \n",
    "    Advantages:\n",
    "        1. Community Engagement is good \n",
    "        2. Flexible \n",
    "        3. Portable\n",
    "        4. Performance: TensorFlow allows you to make the most of your available hardware with its advanced support for threads, asynchronous computation and queues.\n",
    "\n",
    "## Keras \n",
    "    \n",
    "    Keras is an open source neural network library written in Python.\n",
    "    \n",
    "    Advanrages:\n",
    "        1. Designed to enable fast expermentation with deep neural networks\n",
    "        2. It focuses on being minimal, modular and extensible \n",
    "        3. It presents a higher-level, more intuitive set of abstractions that make it easy to configure neural networks regardless of the backend computing library \n",
    "        4. The library contains various implmentations of commonly used neural network building blocks such as layers, objectives, activation functions. optimizers.\n",
    "        \n",
    "## PyTorch \n",
    "    \n",
    "    PyTorch is developed by these companies {FB,TW,NVDIA,SF,OF,}\n",
    "    \n",
    "## Difference between PyTorch and TensorFlow\n",
    "\n",
    "    TensorFlow is built around a concept of Static Computational Graph(SCG)静态计算图, That means, first you define everything that is going to happen inside your framework, then you run it.\n",
    "    \n",
    "    PyTorch is a Dynamic Computational Graph(DCG)\n",
    "        \n",
    "        1.Dynamic data structures inside the network \n",
    "        2. Networks are modular. Each part is implemented separately, and you can debug it separately"
   ]
  },
  {
   "cell_type": "markdown",
   "metadata": {},
   "source": [
    "# Tensorflow"
   ]
  },
  {
   "cell_type": "markdown",
   "metadata": {},
   "source": [
    "```\n",
    "移动互联网 -> 人工智能\n",
    "\n",
    "需要:\n",
    "    Python编程\n",
    "    线性代数 \n",
    "    机器学习\n",
    "```\n"
   ]
  },
  {
   "cell_type": "code",
   "execution_count": 3,
   "metadata": {},
   "outputs": [
    {
     "name": "stdout",
     "output_type": "stream",
     "text": [
      "Loaded TF version 1.5.0 \n",
      "\n",
      "\n"
     ]
    }
   ],
   "source": [
    "%matplotlib inline \n",
    "# encoding: utf-8\n",
    "import os \n",
    "import tensorflow as tf \n",
    "os.environ[\"TF_CPP_MIN_LOG_LEVEL\"]=\"3\"\n",
    "\n",
    "print('Loaded TF version', tf.__version__, '\\n\\n')\n",
    "'''\n",
    "Tensor : 张量 \n",
    "标量    : 值 \n",
    "矢量/向量: 表示位置,空间的点 一维数组是矢量\n",
    "张量    : 表示整个空间      多维数组是张量,矩阵也是张量\n",
    "\n",
    "@Variable : 计算图谱中的变量\n",
    "    tf.Variable.__init__(\n",
    "        initial_value=None, @Tensor \n",
    "        trainable=True,\n",
    "        collections=None,\n",
    "        validate_shape=True,\n",
    "        caching_device=None,\n",
    "        name=None,\n",
    "        variable_def=None,\n",
    "        dtype=None)\n",
    "        \n",
    "@Tensor   : 一个多维矩阵,带有很多方法\n",
    "@Graph    : 一个计算图谱\n",
    "@Session  : 用来运行一个计算图谱\n",
    "\n",
    "#Constant 常量\n",
    "# tf.constant(value, dtype=None, shape=None, name='Const')\n",
    "# return: a constant @Tensor \n",
    "\n",
    "#Placeholder 暂时变量\n",
    "# tf.placeholder(dtype, shape=None, name=None)\n",
    "# return: 一个还尚未存在的@Tensor  \n",
    "'''\n",
    "\n",
    "# 计算图谱来实现一些简单的函数\n",
    "# + - * / 四则运算\n",
    "def basic_operation():\n",
    "    v1 = tf.Variable(10)\n",
    "    v2 = tf.Variable(5)\n",
    "    addv = v1 + v2 \n",
    "    print(addv)\n",
    "    print(type(addv))\n",
    "    print(type(v1))\n",
    "    \n",
    "    c1 = tf.constant(10)\n",
    "    c2 = tf.constant(5)\n",
    "    addc = c1 + c2 \n",
    "    print(addc)\n",
    "    print(type(addc))\n",
    "    print(type(c1))\n",
    "    \n",
    "    # 用来运行计算图谱的对象实例\n",
    "    sess = tf.Session()\n",
    "    \n",
    "    # Variable -> 初始化 -> 有值的Tensor\n",
    "    tf.initialize_all_variables().run(session=sess)\n",
    "    \n",
    "    print('变量是需要初始化的')\n",
    "    print('加法(v1, v2) = ', addv.eval(session=sess))\n",
    "    print('加法(v1, v2) = ', sess.run(addv))\n",
    "    print('加法(c1, c2) = ', addc.eval(session=sess))\n",
    "    print('\\n\\n')\n",
    "    \n",
    "    # tf.Graph.__init__()\n",
    "    # Creates a new, empty Graph.\n",
    "    graph = tf.Graph()\n",
    "    with graph.as_default():\n",
    "        value1 = tf.constant([1, 2])\n",
    "        value2 = tf.Variable([3, 4])\n",
    "        mul = value1 / value2 \n",
    "        \n",
    "    with tf.Session(graph=graph) as mySess:\n",
    "        tf.initialize_all_variables().run()\n",
    "        print('--对应的除法(value1, value2) = ', mySess.run(mul))\n",
    "        print('--对应的除法(value1, value2) = ', mul.eval())\n",
    "    \n",
    "    graph = tf.Graph()\n",
    "    with graph.as_default():\n",
    "        value1 = tf.placeholder(dtype=tf.float64)\n",
    "        value2 = tf.Variable([3, 4], dtype=tf.float64)\n",
    "        mul = value1 * value2 \n",
    "    \n",
    "    with tf.Session(graph=graph) as mySess:\n",
    "        tf.initialize_all_variables().run()\n",
    "        "
   ]
  },
  {
   "cell_type": "code",
   "execution_count": null,
   "metadata": {},
   "outputs": [],
   "source": []
  },
  {
   "cell_type": "code",
   "execution_count": null,
   "metadata": {},
   "outputs": [],
   "source": []
  },
  {
   "cell_type": "code",
   "execution_count": null,
   "metadata": {},
   "outputs": [],
   "source": []
  },
  {
   "cell_type": "code",
   "execution_count": null,
   "metadata": {},
   "outputs": [],
   "source": []
  },
  {
   "cell_type": "code",
   "execution_count": null,
   "metadata": {},
   "outputs": [],
   "source": []
  },
  {
   "cell_type": "code",
   "execution_count": null,
   "metadata": {},
   "outputs": [],
   "source": []
  },
  {
   "cell_type": "code",
   "execution_count": null,
   "metadata": {},
   "outputs": [],
   "source": []
  },
  {
   "cell_type": "code",
   "execution_count": null,
   "metadata": {},
   "outputs": [],
   "source": []
  },
  {
   "cell_type": "code",
   "execution_count": null,
   "metadata": {},
   "outputs": [],
   "source": []
  },
  {
   "cell_type": "code",
   "execution_count": null,
   "metadata": {},
   "outputs": [],
   "source": []
  },
  {
   "cell_type": "code",
   "execution_count": null,
   "metadata": {},
   "outputs": [],
   "source": []
  },
  {
   "cell_type": "code",
   "execution_count": null,
   "metadata": {},
   "outputs": [],
   "source": []
  },
  {
   "cell_type": "code",
   "execution_count": null,
   "metadata": {},
   "outputs": [],
   "source": []
  },
  {
   "cell_type": "code",
   "execution_count": null,
   "metadata": {},
   "outputs": [],
   "source": []
  },
  {
   "cell_type": "code",
   "execution_count": null,
   "metadata": {},
   "outputs": [],
   "source": []
  },
  {
   "cell_type": "code",
   "execution_count": null,
   "metadata": {},
   "outputs": [],
   "source": []
  },
  {
   "cell_type": "code",
   "execution_count": null,
   "metadata": {},
   "outputs": [],
   "source": []
  },
  {
   "cell_type": "code",
   "execution_count": null,
   "metadata": {},
   "outputs": [],
   "source": []
  },
  {
   "cell_type": "code",
   "execution_count": null,
   "metadata": {},
   "outputs": [],
   "source": []
  },
  {
   "cell_type": "code",
   "execution_count": null,
   "metadata": {},
   "outputs": [],
   "source": []
  },
  {
   "cell_type": "code",
   "execution_count": null,
   "metadata": {},
   "outputs": [],
   "source": []
  }
 ],
 "metadata": {
  "kernelspec": {
   "display_name": "Python 3",
   "language": "python",
   "name": "python3"
  },
  "language_info": {
   "codemirror_mode": {
    "name": "ipython",
    "version": 3
   },
   "file_extension": ".py",
   "mimetype": "text/x-python",
   "name": "python",
   "nbconvert_exporter": "python",
   "pygments_lexer": "ipython3",
   "version": "3.5.2"
  }
 },
 "nbformat": 4,
 "nbformat_minor": 2
}

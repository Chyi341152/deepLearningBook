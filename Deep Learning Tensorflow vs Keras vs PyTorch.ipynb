{
 "cells": [
  {
   "cell_type": "markdown",
   "metadata": {},
   "source": [
    "# What is Deep Learning?\n",
    "    \n",
    "    Deep Learning is the application of artificial neural networks(ANNs) to learn tasks.\n",
    "    Artificial Intelligence > Machine Learning > Deep Learning \n",
    "    \n",
    "## Machine Learning \n",
    "    \n",
    "    scikit-learn: a machine learning library with all supervised and unsupervised machine learning algorithms.\n",
    "\n",
    "## Tensorflow\n",
    "    \n",
    "    Advantages:\n",
    "        1. Community Engagement is good \n",
    "        2. Flexible \n",
    "        3. Portable\n",
    "        4. Performance: TensorFlow allows you to make the most of your available hardware with its advanced support for threads, asynchronous computation and queues.\n",
    "\n",
    "## Keras \n",
    "    \n",
    "    Keras is an open source neural network library written in Python.\n",
    "    \n",
    "    Advanrages:\n",
    "        1. Designed to enable fast expermentation with deep neural networks\n",
    "        2. It focuses on being minimal, modular and extensible \n",
    "        3. It presents a higher-level, more intuitive set of abstractions that make it easy to configure neural networks regardless of the backend computing library \n",
    "        4. The library contains various implmentations of commonly used neural network building blocks such as layers, objectives, activation functions. optimizers.\n",
    "        \n",
    "## PyTorch \n",
    "    \n",
    "    PyTorch is developed by these companies {FB,TW,NVDIA,SF,OF,}\n",
    "    \n",
    "## Difference between PyTorch and TensorFlow\n",
    "\n",
    "    TensorFlow is built around a concept of Static Computational Graph(SCG)静态计算图, That means, first you define everything that is going to happen inside your framework, then you run it.\n",
    "    \n",
    "    PyTorch is a Dynamic Computational Graph(DCG)\n",
    "        \n",
    "        1.Dynamic data structures inside the network \n",
    "        2. Networks are modular. Each part is implemented separately, and you can debug it separately"
   ]
  }
 ],
 "metadata": {
  "kernelspec": {
   "display_name": "Python 3",
   "language": "python",
   "name": "python3"
  },
  "language_info": {
   "codemirror_mode": {
    "name": "ipython",
    "version": 3
   },
   "file_extension": ".py",
   "mimetype": "text/x-python",
   "name": "python",
   "nbconvert_exporter": "python",
   "pygments_lexer": "ipython3",
   "version": "3.5.2"
  }
 },
 "nbformat": 4,
 "nbformat_minor": 2
}
